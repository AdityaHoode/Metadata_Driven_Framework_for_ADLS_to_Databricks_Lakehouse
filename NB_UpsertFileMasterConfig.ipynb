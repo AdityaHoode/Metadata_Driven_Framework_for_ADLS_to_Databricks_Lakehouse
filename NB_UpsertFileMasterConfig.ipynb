{
 "cells": [
  {
   "cell_type": "code",
   "execution_count": 0,
   "metadata": {
    "application/vnd.databricks.v1+cell": {
     "cellMetadata": {},
     "inputWidgets": {},
     "nuid": "58de86cd-ee99-4f01-822d-18ebfaf06ff6",
     "showTitle": false,
     "tableResultSettingsMap": {},
     "title": ""
    }
   },
   "outputs": [],
   "source": [
    "dbutils.widgets.text(\"rootFolder\", \"\")\n",
    "dbutils.widgets.text(\"targetCatalog\", \"\")\n",
    "dbutils.widgets.text(\"targetSchema\", \"\")\n",
    "dbutils.widgets.text(\"targetTable\", \"\")\n",
    "dbutils.widgets.text(\"fileSearchTerm\", \"\")\n",
    "dbutils.widgets.text(\"baseUrl\", \"\")\n",
    "dbutils.widgets.text(\"watermarkColumn\", \"\")\n",
    "dbutils.widgets.text(\"lpWatermarkValue\", \"\")\n",
    "dbutils.widgets.text(\"enableFlag\", \"\")\n",
    "dbutils.widgets.text(\"columnList\", \"\")\n",
    "dbutils.widgets.text(\"fmcCatalog\", \"\")\n",
    "dbutils.widgets.text(\"fmcSchema\", \"\")"
   ]
  },
  {
   "cell_type": "code",
   "execution_count": 0,
   "metadata": {
    "application/vnd.databricks.v1+cell": {
     "cellMetadata": {},
     "inputWidgets": {},
     "nuid": "23cb06e8-9409-4095-8cd0-f77a930171d5",
     "showTitle": false,
     "tableResultSettingsMap": {},
     "title": ""
    }
   },
   "outputs": [],
   "source": [
    "rootFolder = dbutils.widgets.get(\"rootFolder\")\n",
    "targetCatalog = dbutils.widgets.get(\"targetCatalog\")\n",
    "targetSchema = dbutils.widgets.get(\"targetSchema\")\n",
    "targetTable = dbutils.widgets.get(\"targetTable\")\n",
    "fileSearchTerm = dbutils.widgets.get(\"fileSearchTerm\")\n",
    "baseUrl = dbutils.widgets.get(\"baseUrl\")\n",
    "watermarkColumn = dbutils.widgets.get(\"watermarkColumn\")\n",
    "lpWatermarkValue = dbutils.widgets.get(\"lpWatermarkValue\")\n",
    "enableFlag = dbutils.widgets.get(\"enableFlag\")\n",
    "columnList = dbutils.widgets.get(\"columnList\")\n",
    "catalog = dbutils.widgets.get(\"fmcCatalog\")\n",
    "schema = dbutils.widgets.get(\"fmcSchema\")\n",
    "\n",
    "for widget_name in [\n",
    "    \"rootFolder\",\n",
    "    \"targetCatalog\",\n",
    "    \"targetSchema\",\n",
    "    \"targetTable\",\n",
    "    \"baseUrl\",\n",
    "    \"watermarkColumn\",\n",
    "    \"lpWatermarkValue\",\n",
    "    \"enableFlag\",\n",
    "    \"fmcCatalog\",\n",
    "    \"fmcSchema\",\n",
    "]:\n",
    "    widget_value = dbutils.widgets.get(widget_name)\n",
    "    if not widget_value.strip():\n",
    "        raise ValueError(f\"A value must be provided for '{widget_name}'\")"
   ]
  },
  {
   "cell_type": "code",
   "execution_count": 0,
   "metadata": {
    "application/vnd.databricks.v1+cell": {
     "cellMetadata": {},
     "inputWidgets": {},
     "nuid": "2d34889c-df8a-4afa-a839-0f9e9b10997c",
     "showTitle": false,
     "tableResultSettingsMap": {},
     "title": ""
    }
   },
   "outputs": [],
   "source": [
    "%run \"/Workspace/MDFs/ADLS to Lakehouse/functions/NB_Functions\""
   ]
  },
  {
   "cell_type": "code",
   "execution_count": 0,
   "metadata": {
    "application/vnd.databricks.v1+cell": {
     "cellMetadata": {},
     "inputWidgets": {},
     "nuid": "ea8ec1dd-ad36-4a73-8dc9-557e3ff58b08",
     "showTitle": false,
     "tableResultSettingsMap": {},
     "title": ""
    }
   },
   "outputs": [],
   "source": [
    "upsert_file_master_config(\n",
    "    rootFolder,\n",
    "    targetCatalog,\n",
    "    targetSchema,\n",
    "    targetTable,\n",
    "    fileSearchTerm,\n",
    "    baseUrl,\n",
    "    watermarkColumn,\n",
    "    lpWatermarkValue,\n",
    "    enableFlag,\n",
    "    columnList,\n",
    "    catalog,\n",
    "    schema,\n",
    ")"
   ]
  }
 ],
 "metadata": {
  "application/vnd.databricks.v1+notebook": {
   "computePreferences": null,
   "dashboards": [],
   "environmentMetadata": {
    "base_environment": "",
    "environment_version": "2"
   },
   "inputWidgetPreferences": null,
   "language": "python",
   "notebookMetadata": {
    "pythonIndentUnit": 4
   },
   "notebookName": "NB_UpsertFileMasterConfig",
   "widgets": {}
  },
  "language_info": {
   "name": "python"
  }
 },
 "nbformat": 4,
 "nbformat_minor": 0
}
