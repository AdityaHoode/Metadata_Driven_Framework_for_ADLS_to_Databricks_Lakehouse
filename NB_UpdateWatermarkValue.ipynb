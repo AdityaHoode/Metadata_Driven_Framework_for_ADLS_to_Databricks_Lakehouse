{
 "cells": [
  {
   "cell_type": "code",
   "execution_count": 0,
   "metadata": {
    "application/vnd.databricks.v1+cell": {
     "cellMetadata": {},
     "inputWidgets": {},
     "nuid": "97616729-f387-485b-b3ff-82adb038fa87",
     "showTitle": false,
     "tableResultSettingsMap": {},
     "title": ""
    }
   },
   "outputs": [],
   "source": [
    "catalog = dbutils.widgets.get(\"catalog\")\n",
    "schema = dbutils.widgets.get(\"schema\")"
   ]
  },
  {
   "cell_type": "code",
   "execution_count": 0,
   "metadata": {
    "application/vnd.databricks.v1+cell": {
     "cellMetadata": {
      "byteLimit": 2048000,
      "rowLimit": 10000
     },
     "inputWidgets": {},
     "nuid": "b433b80e-d808-4e5c-89e3-f9095bec0396",
     "showTitle": false,
     "tableResultSettingsMap": {},
     "title": ""
    }
   },
   "outputs": [],
   "source": [
    "entities = spark.sql(f\"SELECT WatermarkColumn, TargetTable FROM {catalog}.{schema}.file_master_config WHERE EnableFlag=1\").collect()\n",
    "\n",
    "for e in entities:\n",
    "    cnt = spark.sql(f\"SELECT COUNT(*) FROM {catalog}.{schema}.{e['TargetTable']}\").first()[0]\n",
    "    \n",
    "    if cnt > 0:\n",
    "        spark.sql(\n",
    "            f\"\"\"\n",
    "            UPDATE {catalog}.{schema}.file_master_config \n",
    "            SET \n",
    "                LPWatermarkValue = (SELECT MAX({e['WatermarkColumn']}) FROM {catalog}.{schema}.{e['TargetTable']})\n",
    "            WHERE \n",
    "                TargetTable = '{e[\"TargetTable\"]}'\n",
    "            \"\"\"\n",
    "        )\n"
   ]
  },
  {
   "cell_type": "code",
   "execution_count": 0,
   "metadata": {
    "application/vnd.databricks.v1+cell": {
     "cellMetadata": {},
     "inputWidgets": {},
     "nuid": "49dda8b0-3146-4533-9d5d-cb9075e2c6df",
     "showTitle": false,
     "tableResultSettingsMap": {},
     "title": ""
    }
   },
   "outputs": [],
   "source": []
  }
 ],
 "metadata": {
  "application/vnd.databricks.v1+notebook": {
   "computePreferences": null,
   "dashboards": [],
   "environmentMetadata": {
    "base_environment": "",
    "environment_version": "2"
   },
   "inputWidgetPreferences": null,
   "language": "python",
   "notebookMetadata": {
    "pythonIndentUnit": 4
   },
   "notebookName": "NB_UpdateWatermarkValue",
   "widgets": {}
  },
  "language_info": {
   "name": "python"
  }
 },
 "nbformat": 4,
 "nbformat_minor": 0
}
